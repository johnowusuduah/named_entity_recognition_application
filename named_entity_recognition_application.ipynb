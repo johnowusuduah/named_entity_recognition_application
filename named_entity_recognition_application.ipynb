{
  "nbformat": 4,
  "nbformat_minor": 0,
  "metadata": {
    "colab": {
      "name": "Markdown Guide",
      "provenance": [],
      "collapsed_sections": [],
      "include_colab_link": true
    },
    "kernelspec": {
      "display_name": "Python 3",
      "name": "python3"
    }
  },
  "cells": [
    {
      "cell_type": "markdown",
      "metadata": {
        "id": "view-in-github",
        "colab_type": "text"
      },
      "source": [
        "<a href=\"https://colab.research.google.com/github/johnowusuduah/named_entity_recognition_application/blob/main/named_entity_recognition_application.ipynb\" target=\"_parent\"><img src=\"https://colab.research.google.com/assets/colab-badge.svg\" alt=\"Open In Colab\"/></a>"
      ]
    },
    {
      "cell_type": "markdown",
      "metadata": {
        "id": "70pYkR9LiOV0"
      },
      "source": [
        "## Named Entity Recognition (NER)\n",
        "\n",
        "**How Do you Identify Named Entities in Textual Data?**\n",
        "\n",
        "\n",
        "**What is a Named Entity?**\n",
        "\n",
        "Any word which represents proper nouns (ie. persons, organization and location). Extraction of named entities involves identifying words which are named entities in a given text and its called entity identification or entity chunking\n"
      ]
    },
    {
      "cell_type": "markdown",
      "metadata": {
        "id": "rMFlcgdcN8NT"
      },
      "source": [
        "**Why is it important?**\n",
        "\n",
        "Before meaning can be made from a given text (eg. tweet, document or facebook post), it is important to identify the subject and object of the subject matter. Named Entity Recognition is an integral part of the pipeline of NLP tasks which involves understanding text."
      ]
    },
    {
      "cell_type": "markdown",
      "metadata": {
        "id": "FiTF5FwROucv"
      },
      "source": [
        "**Approach**\n",
        "\n",
        "Used Spacy library because it is one of the best algorithms which is built from a neural network model."
      ]
    },
    {
      "cell_type": "code",
      "metadata": {
        "id": "QEsDPFIcPCzm",
        "outputId": "74ba0d21-fa4c-4db8-8d3b-a34e17869bb0",
        "colab": {
          "base_uri": "https://localhost:8080/",
          "height": 35
        }
      },
      "source": [
        "import nltk\n",
        "import pandas as pd\n",
        "import spacy\n",
        "from spacy import displacy\n",
        "# called to find out which version of spacy\n",
        "spacy.__version__"
      ],
      "execution_count": 1,
      "outputs": [
        {
          "output_type": "execute_result",
          "data": {
            "application/vnd.google.colaboratory.intrinsic+json": {
              "type": "string"
            },
            "text/plain": [
              "'2.2.4'"
            ]
          },
          "metadata": {},
          "execution_count": 1
        }
      ]
    },
    {
      "cell_type": "markdown",
      "metadata": {
        "id": "ca4IoUWbWoJi"
      },
      "source": [
        "**Caveat**\n",
        "\n",
        "No algorithm can correctly identify all named entities 100% of the time"
      ]
    },
    {
      "cell_type": "code",
      "metadata": {
        "id": "DWUNoSn1PdgK",
        "outputId": "5603353c-1959-47af-d6a1-257c5c782ad5",
        "colab": {
          "base_uri": "https://localhost:8080/"
        }
      },
      "source": [
        "#Download spacy models\n",
        "!python -m spacy download en_core_web_sm"
      ],
      "execution_count": 3,
      "outputs": [
        {
          "output_type": "stream",
          "name": "stdout",
          "text": [
            "Collecting en_core_web_sm==2.2.5\n",
            "  Downloading https://github.com/explosion/spacy-models/releases/download/en_core_web_sm-2.2.5/en_core_web_sm-2.2.5.tar.gz (12.0 MB)\n",
            "\u001b[K     |████████████████████████████████| 12.0 MB 5.4 MB/s \n",
            "\u001b[?25hRequirement already satisfied: spacy>=2.2.2 in /usr/local/lib/python3.7/dist-packages (from en_core_web_sm==2.2.5) (2.2.4)\n",
            "Requirement already satisfied: wasabi<1.1.0,>=0.4.0 in /usr/local/lib/python3.7/dist-packages (from spacy>=2.2.2->en_core_web_sm==2.2.5) (0.8.2)\n",
            "Requirement already satisfied: preshed<3.1.0,>=3.0.2 in /usr/local/lib/python3.7/dist-packages (from spacy>=2.2.2->en_core_web_sm==2.2.5) (3.0.5)\n",
            "Requirement already satisfied: blis<0.5.0,>=0.4.0 in /usr/local/lib/python3.7/dist-packages (from spacy>=2.2.2->en_core_web_sm==2.2.5) (0.4.1)\n",
            "Requirement already satisfied: numpy>=1.15.0 in /usr/local/lib/python3.7/dist-packages (from spacy>=2.2.2->en_core_web_sm==2.2.5) (1.19.5)\n",
            "Requirement already satisfied: setuptools in /usr/local/lib/python3.7/dist-packages (from spacy>=2.2.2->en_core_web_sm==2.2.5) (57.4.0)\n",
            "Requirement already satisfied: srsly<1.1.0,>=1.0.2 in /usr/local/lib/python3.7/dist-packages (from spacy>=2.2.2->en_core_web_sm==2.2.5) (1.0.5)\n",
            "Requirement already satisfied: cymem<2.1.0,>=2.0.2 in /usr/local/lib/python3.7/dist-packages (from spacy>=2.2.2->en_core_web_sm==2.2.5) (2.0.5)\n",
            "Requirement already satisfied: catalogue<1.1.0,>=0.0.7 in /usr/local/lib/python3.7/dist-packages (from spacy>=2.2.2->en_core_web_sm==2.2.5) (1.0.0)\n",
            "Requirement already satisfied: tqdm<5.0.0,>=4.38.0 in /usr/local/lib/python3.7/dist-packages (from spacy>=2.2.2->en_core_web_sm==2.2.5) (4.62.2)\n",
            "Requirement already satisfied: thinc==7.4.0 in /usr/local/lib/python3.7/dist-packages (from spacy>=2.2.2->en_core_web_sm==2.2.5) (7.4.0)\n",
            "Requirement already satisfied: murmurhash<1.1.0,>=0.28.0 in /usr/local/lib/python3.7/dist-packages (from spacy>=2.2.2->en_core_web_sm==2.2.5) (1.0.5)\n",
            "Requirement already satisfied: requests<3.0.0,>=2.13.0 in /usr/local/lib/python3.7/dist-packages (from spacy>=2.2.2->en_core_web_sm==2.2.5) (2.23.0)\n",
            "Requirement already satisfied: plac<1.2.0,>=0.9.6 in /usr/local/lib/python3.7/dist-packages (from spacy>=2.2.2->en_core_web_sm==2.2.5) (1.1.3)\n",
            "Requirement already satisfied: importlib-metadata>=0.20 in /usr/local/lib/python3.7/dist-packages (from catalogue<1.1.0,>=0.0.7->spacy>=2.2.2->en_core_web_sm==2.2.5) (4.8.1)\n",
            "Requirement already satisfied: typing-extensions>=3.6.4 in /usr/local/lib/python3.7/dist-packages (from importlib-metadata>=0.20->catalogue<1.1.0,>=0.0.7->spacy>=2.2.2->en_core_web_sm==2.2.5) (3.7.4.3)\n",
            "Requirement already satisfied: zipp>=0.5 in /usr/local/lib/python3.7/dist-packages (from importlib-metadata>=0.20->catalogue<1.1.0,>=0.0.7->spacy>=2.2.2->en_core_web_sm==2.2.5) (3.5.0)\n",
            "Requirement already satisfied: chardet<4,>=3.0.2 in /usr/local/lib/python3.7/dist-packages (from requests<3.0.0,>=2.13.0->spacy>=2.2.2->en_core_web_sm==2.2.5) (3.0.4)\n",
            "Requirement already satisfied: certifi>=2017.4.17 in /usr/local/lib/python3.7/dist-packages (from requests<3.0.0,>=2.13.0->spacy>=2.2.2->en_core_web_sm==2.2.5) (2021.5.30)\n",
            "Requirement already satisfied: idna<3,>=2.5 in /usr/local/lib/python3.7/dist-packages (from requests<3.0.0,>=2.13.0->spacy>=2.2.2->en_core_web_sm==2.2.5) (2.10)\n",
            "Requirement already satisfied: urllib3!=1.25.0,!=1.25.1,<1.26,>=1.21.1 in /usr/local/lib/python3.7/dist-packages (from requests<3.0.0,>=2.13.0->spacy>=2.2.2->en_core_web_sm==2.2.5) (1.24.3)\n",
            "\u001b[38;5;2m✔ Download and installation successful\u001b[0m\n",
            "You can now load the model via spacy.load('en_core_web_sm')\n"
          ]
        }
      ]
    },
    {
      "cell_type": "code",
      "metadata": {
        "id": "CGbmMfaHQSxD"
      },
      "source": [
        "#Load spacy model\n",
        "# small size model\n",
        "nlp = spacy.load(\"en_core_web_sm\")\n",
        "# medium size model\n",
        "#nlp = spacy.load(\"en_core_web_md\")\n",
        "# large size model\n",
        "#nlp = spacy.load(\"en_core_web_lg\")"
      ],
      "execution_count": 5,
      "outputs": []
    },
    {
      "cell_type": "code",
      "metadata": {
        "id": "GdK5Q07IQ7IW"
      },
      "source": [
        "# Input data is an extract from a news article on twitter\n",
        "input_data = \"The original lawsuit, filed in 2016 by a Twitter shareholder, alleged Dorsey and others including former \\\n",
        "CEO Dick Costolo and board member Evan Williams hid facts about Twitter’s slowing user growth while they sold their personal \\\n",
        "stock holdings “for hundreds of millions of dollars in insider profits.” The complaint alleged the company was tracking daily \\\n",
        "active users (DAUs) as the primary indicator of Twitter’s user engagement by early 2015 but didn’t reveal that to investors at \\\n",
        "the time (when it was reporting monthly active user figures). According to the lawsuit, Twitter’s DAU figures showed that user \\\n",
        "engagement growth was either flat or declining.\""
      ],
      "execution_count": 6,
      "outputs": []
    },
    {
      "cell_type": "code",
      "metadata": {
        "id": "XdLjQoF4R-1H",
        "outputId": "2e6ed9b1-7075-49b6-e415-17b6fd3fba03",
        "colab": {
          "base_uri": "https://localhost:8080/",
          "height": 359
        }
      },
      "source": [
        "document = nlp(input_data)\n",
        "\n",
        "entities = []\n",
        "labels = []\n",
        "position_start = []\n",
        "position_end = []\n",
        "\n",
        "for entity in document.ents:\n",
        "  entities.append(entity)\n",
        "  labels.append(entity.label_)\n",
        "  position_start.append(entity.start_char)\n",
        "  position_end.append(entity.end_char)\n",
        "\n",
        "\n",
        "df_NER = pd.DataFrame({\"Entities\":entities, \"Labels\":labels, \"Position_Start\":position_start, \"Position_End\":position_end})\n",
        "\n",
        "df_NER\n"
      ],
      "execution_count": 10,
      "outputs": [
        {
          "output_type": "execute_result",
          "data": {
            "text/html": [
              "<div>\n",
              "<style scoped>\n",
              "    .dataframe tbody tr th:only-of-type {\n",
              "        vertical-align: middle;\n",
              "    }\n",
              "\n",
              "    .dataframe tbody tr th {\n",
              "        vertical-align: top;\n",
              "    }\n",
              "\n",
              "    .dataframe thead th {\n",
              "        text-align: right;\n",
              "    }\n",
              "</style>\n",
              "<table border=\"1\" class=\"dataframe\">\n",
              "  <thead>\n",
              "    <tr style=\"text-align: right;\">\n",
              "      <th></th>\n",
              "      <th>Entities</th>\n",
              "      <th>Labels</th>\n",
              "      <th>Position_Start</th>\n",
              "      <th>Position_End</th>\n",
              "    </tr>\n",
              "  </thead>\n",
              "  <tbody>\n",
              "    <tr>\n",
              "      <th>0</th>\n",
              "      <td>(2016)</td>\n",
              "      <td>DATE</td>\n",
              "      <td>31</td>\n",
              "      <td>35</td>\n",
              "    </tr>\n",
              "    <tr>\n",
              "      <th>1</th>\n",
              "      <td>(Dorsey)</td>\n",
              "      <td>ORG</td>\n",
              "      <td>70</td>\n",
              "      <td>76</td>\n",
              "    </tr>\n",
              "    <tr>\n",
              "      <th>2</th>\n",
              "      <td>(Dick, Costolo)</td>\n",
              "      <td>PERSON</td>\n",
              "      <td>109</td>\n",
              "      <td>121</td>\n",
              "    </tr>\n",
              "    <tr>\n",
              "      <th>3</th>\n",
              "      <td>(Evan, Williams)</td>\n",
              "      <td>PERSON</td>\n",
              "      <td>139</td>\n",
              "      <td>152</td>\n",
              "    </tr>\n",
              "    <tr>\n",
              "      <th>4</th>\n",
              "      <td>(Twitter)</td>\n",
              "      <td>PERSON</td>\n",
              "      <td>169</td>\n",
              "      <td>176</td>\n",
              "    </tr>\n",
              "    <tr>\n",
              "      <th>5</th>\n",
              "      <td>(hundreds, of, millions, of, dollars)</td>\n",
              "      <td>MONEY</td>\n",
              "      <td>250</td>\n",
              "      <td>281</td>\n",
              "    </tr>\n",
              "    <tr>\n",
              "      <th>6</th>\n",
              "      <td>(daily)</td>\n",
              "      <td>DATE</td>\n",
              "      <td>350</td>\n",
              "      <td>355</td>\n",
              "    </tr>\n",
              "    <tr>\n",
              "      <th>7</th>\n",
              "      <td>(Twitter)</td>\n",
              "      <td>PERSON</td>\n",
              "      <td>404</td>\n",
              "      <td>411</td>\n",
              "    </tr>\n",
              "    <tr>\n",
              "      <th>8</th>\n",
              "      <td>(early, 2015)</td>\n",
              "      <td>DATE</td>\n",
              "      <td>433</td>\n",
              "      <td>443</td>\n",
              "    </tr>\n",
              "    <tr>\n",
              "      <th>9</th>\n",
              "      <td>(monthly)</td>\n",
              "      <td>DATE</td>\n",
              "      <td>515</td>\n",
              "      <td>522</td>\n",
              "    </tr>\n",
              "  </tbody>\n",
              "</table>\n",
              "</div>"
            ],
            "text/plain": [
              "                                Entities  Labels  Position_Start  Position_End\n",
              "0                                 (2016)    DATE              31            35\n",
              "1                               (Dorsey)     ORG              70            76\n",
              "2                        (Dick, Costolo)  PERSON             109           121\n",
              "3                       (Evan, Williams)  PERSON             139           152\n",
              "4                              (Twitter)  PERSON             169           176\n",
              "5  (hundreds, of, millions, of, dollars)   MONEY             250           281\n",
              "6                                (daily)    DATE             350           355\n",
              "7                              (Twitter)  PERSON             404           411\n",
              "8                          (early, 2015)    DATE             433           443\n",
              "9                              (monthly)    DATE             515           522"
            ]
          },
          "metadata": {},
          "execution_count": 10
        }
      ]
    },
    {
      "cell_type": "markdown",
      "metadata": {
        "id": "eHNyyp67WetT"
      },
      "source": [
        "We can identify that Dorsey was labeled as an organization instead of a person. We also see that Twitter was identified as a person instead of an organiziation."
      ]
    },
    {
      "cell_type": "markdown",
      "metadata": {
        "id": "9efO8hGAXfia"
      },
      "source": [
        "** Application **\n",
        "\n",
        "A bot that can analyze financial news and extract information about entities (ie. location, dates and numeric information) that are mentioned in a public document. Further to that, algorithmic trading bots can be built from this."
      ]
    }
  ]
}